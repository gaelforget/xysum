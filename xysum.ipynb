{
 "cells": [
  {
   "cell_type": "code",
   "execution_count": 3,
   "metadata": {},
   "outputs": [
    {
     "name": "stdout",
     "output_type": "stream",
     "text": [
      "xy(1.0, 2.0)"
     ]
    },
    {
     "data": {
      "text/plain": [
       "3.0"
      ]
     },
     "execution_count": 3,
     "metadata": {},
     "output_type": "execute_result"
    }
   ],
   "source": [
    "#Define a new data type with two real numbers\n",
    "struct xy\n",
    "\ta::Float64\n",
    "\tb::Float64\n",
    "end\n",
    "\n",
    "#Define a variable of the new data type\n",
    "ab=xy(1.0,2.0)\n",
    "typeof(ab)\n",
    "show(ab)\n",
    "\n",
    "#The following command would return an error message at this point \n",
    "#because julia does not now yet how to compute the sum of ab\n",
    "#sum(ab)\n",
    "\n",
    "#We want to define a special version of the sum function \n",
    "#that applies when the input type is `xy` (`::xy` in Julia) \n",
    "import Base:sum\n",
    "function sum(ab::xy)\n",
    "\tab.a+ab.b\n",
    "end\n",
    "\n",
    "#Now this works:\n",
    "sum(ab)\n"
   ]
  },
  {
   "cell_type": "code",
   "execution_count": 4,
   "metadata": {},
   "outputs": [
    {
     "data": {
      "text/plain": [
       "true"
      ]
     },
     "execution_count": 4,
     "metadata": {},
     "output_type": "execute_result"
    }
   ],
   "source": [
    "sum(xy(1.0,2.0))==3.0"
   ]
  },
  {
   "cell_type": "code",
   "execution_count": null,
   "metadata": {},
   "outputs": [],
   "source": []
  }
 ],
 "metadata": {
  "kernelspec": {
   "display_name": "Julia 1.3.1",
   "language": "julia",
   "name": "julia-1.3"
  },
  "language_info": {
   "file_extension": ".jl",
   "mimetype": "application/julia",
   "name": "julia",
   "version": "1.3.1"
  }
 },
 "nbformat": 4,
 "nbformat_minor": 4
}
